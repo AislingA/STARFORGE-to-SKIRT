{
 "cells": [
  {
   "cell_type": "code",
   "execution_count": 1,
   "id": "bdb74553-cecc-43c3-b2f9-fbbba5055b76",
   "metadata": {},
   "outputs": [],
   "source": [
    "import yt"
   ]
  },
  {
   "cell_type": "code",
   "execution_count": 2,
   "id": "adc62321-e857-479e-b6ad-aacf2db644a0",
   "metadata": {},
   "outputs": [
    {
     "name": "stderr",
     "output_type": "stream",
     "text": [
      "yt : [INFO     ] 2025-07-11 21:05:39,434 ComovingIntegrationOn != 1 or (not found and OmegaLambda is 0.0), so we are turning off Cosmology.\n",
      "yt : [INFO     ] 2025-07-11 21:05:39,434 Assuming length units are in kpc (physical)\n",
      "yt : [INFO     ] 2025-07-11 21:05:39,494 Parameters: current_time              = 0.00012483821354781577\n",
      "yt : [INFO     ] 2025-07-11 21:05:39,494 Parameters: domain_dimensions         = [1 1 1]\n",
      "yt : [INFO     ] 2025-07-11 21:05:39,495 Parameters: domain_left_edge          = [0. 0. 0.]\n",
      "yt : [INFO     ] 2025-07-11 21:05:39,495 Parameters: domain_right_edge         = [8.16 8.16 8.16]\n",
      "yt : [INFO     ] 2025-07-11 21:05:39,496 Parameters: cosmological_simulation   = 0\n"
     ]
    }
   ],
   "source": [
    "# Load the dataset.\n",
    "ds = yt.load(\"snapshot_150.hdf5\")"
   ]
  },
  {
   "cell_type": "code",
   "execution_count": 3,
   "id": "b39cef7c-39a5-49fc-8c65-d7abfff01ecc",
   "metadata": {},
   "outputs": [
    {
     "name": "stderr",
     "output_type": "stream",
     "text": [
      "yt : [INFO     ] 2025-07-11 21:05:56,798 Allocating for 1.214e+07 particles\n",
      "Loading particle index: 100%|██████████| 47/47 [00:00<00:00, 2438.64it/s]\n",
      "yt : [INFO     ] 2025-07-11 21:05:57,597 xlim = 0.000000 8.160000\n",
      "yt : [INFO     ] 2025-07-11 21:05:57,598 ylim = 0.000000 8.160000\n",
      "yt : [INFO     ] 2025-07-11 21:05:57,601 xlim = 0.000000 8.160000\n",
      "yt : [INFO     ] 2025-07-11 21:05:57,601 ylim = 0.000000 8.160000\n",
      "yt : [INFO     ] 2025-07-11 21:05:57,606 Making a fixed resolution buffer of (('gas', 'temperature')) 800 by 800\n",
      "yt : [INFO     ] 2025-07-11 21:06:09,938 Making a fixed resolution buffer of (('gas', 'density')) 800 by 800\n",
      "yt : [INFO     ] 2025-07-11 21:06:22,419 Saving plot temperature_projection_z_pc_K.png\n"
     ]
    },
    {
     "data": {
      "text/plain": [
       "['temperature_projection_z_pc_K.png']"
      ]
     },
     "execution_count": 3,
     "metadata": {},
     "output_type": "execute_result"
    }
   ],
   "source": [
    "temperature_field = (\"gas\", \"temperature\")\n",
    "weight_field = (\"gas\", \"density\")\n",
    "\n",
    "projection_axis = \"z\"\n",
    "\n",
    "p = yt.ProjectionPlot(ds,projection_axis, temperature_field, weight_field=weight_field)\n",
    "\n",
    "output_filename = f\"temperature_projection_{projection_axis}_pc_K.png\"\n",
    "p.save(output_filename)"
   ]
  },
  {
   "cell_type": "code",
   "execution_count": 4,
   "id": "f6750eca-3eb0-4506-a77f-332fe79b3626",
   "metadata": {},
   "outputs": [
    {
     "name": "stdout",
     "output_type": "stream",
     "text": [
      "Loaded 12138673 gas particle temperatures.\n",
      "Min temperature: 2.7300000190734863\n",
      "Max temperature: 34323.78515625\n",
      "Example 5 values of temperatures: [128.65103   86.959045  80.29147   53.301132  55.585518]\n"
     ]
    }
   ],
   "source": [
    "import h5py\n",
    "import numpy as np\n",
    "import matplotlib.pyplot as plt\n",
    "\n",
    "snapfile = 'snapshot_150.hdf5'\n",
    "\n",
    "with h5py.File(snapfile, 'r') as f:\n",
    "    # gas data\n",
    "    pt0 = {}\n",
    "    pt0[\"Coordinates\"] = f[\"PartType0\"][\"Coordinates\"][:]\n",
    "    pt0[\"Masses\"] = f[\"PartType0\"][\"Masses\"][:] * 0.01\n",
    "    pt0[\"SmoothingLength\"] = f[\"PartType0\"][\"SmoothingLength\"][:]\n",
    "    pt0[\"Temperature\"] = f[\"PartType0\"][\"Temperature\"][:]\n",
    "\n",
    "    # star data\n",
    "    pt5 = {}\n",
    "    pt5[\"Coordinates\"] = f[\"PartType5\"][\"Coordinates\"][:]\n",
    "    pt5[\"Masses\"] = f[\"PartType5\"][\"Masses\"][:]\n",
    "\n",
    "print(f\"Loaded {len(pt0['Temperature'])} gas particle temperatures.\")\n",
    "print(f\"Min temperature: {np.min(pt0['Temperature'])}\")\n",
    "print(f\"Max temperature: {np.max(pt0['Temperature'])}\")\n",
    "print(f\"Example 5 values of temperatures: {pt0['Temperature'][:5]}\")"
   ]
  },
  {
   "cell_type": "code",
   "execution_count": 6,
   "id": "41ed196e-6c2b-4380-bd24-a6f850198daa",
   "metadata": {},
   "outputs": [
    {
     "name": "stdout",
     "output_type": "stream",
     "text": [
      "Example 5 values of emitting flux: [15533.339   3242.4316  2356.6194   457.6753   541.3254]\n"
     ]
    }
   ],
   "source": [
    "# calc f emit\n",
    "sigma = 5.670374419e-5\n",
    "T = pt0['Temperature'][:]\n",
    "f_emit = sigma * T**4\n",
    "print(f\"Example 5 values of emitting flux: {f_emit[:5]}\")"
   ]
  },
  {
   "cell_type": "code",
   "execution_count": null,
   "id": "353a3d23-b986-462f-876a-0db7d79e75f7",
   "metadata": {},
   "outputs": [],
   "source": [
    "# calc L emit\n"
   ]
  },
  {
   "cell_type": "code",
   "execution_count": null,
   "id": "28c29d3a-2320-467d-833a-f93f2d831003",
   "metadata": {},
   "outputs": [],
   "source": [
    "# calc f obs\n",
    "d = 1 #kpc\n",
    "f_obs = L_emit / (np.pi/d)"
   ]
  }
 ],
 "metadata": {
  "kernelspec": {
   "display_name": "Python 3 (ipykernel)",
   "language": "python",
   "name": "python3"
  },
  "language_info": {
   "codemirror_mode": {
    "name": "ipython",
    "version": 3
   },
   "file_extension": ".py",
   "mimetype": "text/x-python",
   "name": "python",
   "nbconvert_exporter": "python",
   "pygments_lexer": "ipython3",
   "version": "3.11.9"
  }
 },
 "nbformat": 4,
 "nbformat_minor": 5
}
